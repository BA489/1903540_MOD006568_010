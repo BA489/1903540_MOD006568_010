{
 "cells": [
  {
   "cell_type": "markdown",
   "metadata": {
    "id": "BAfJCaULD2Yp"
   },
   "source": [
    "# Distributed Training of Neural Network Models\n",
    "\n",
    "\n",
    "Below is the basic implementation of Federated Learning code for 2 clients and a server for one communication round using the MNIST dataset.\n",
    "\n",
    "Your task for this lab is to utilize this code as a benchmark and accomplish  the following objectives:\n",
    "\n",
    "1. Comment each section of the code to understand its functionality.\n",
    "\n",
    "2. Experiment with different neural network architectures, varying the number of layers and activation functions\n",
    "\n",
    "3. Assess the model's performance (accuracy, precision, recall, and f-score) as the number of clients changes. Utilize 2, 4, 6, 8, and 10 clients, and plot a graph illustrating the model's performance across varying client counts.\n",
    "\n",
    "4. Introduce one dishonest client for a any sepcific number of clients of your choice. For this client, assign some training labels ('y_train') to a specific label, such as '4'. Analyze how the performance ((accuracy, precision, recall, and f-score)) of the global model is affected by the presence of a dishonest client. Find approximately how many labels need to be maliciously altered so that the performance degrades."
   ]
  },
  {
   "cell_type": "code",
   "execution_count": 53,
   "metadata": {
    "colab": {
     "base_uri": "https://localhost:8080/"
    },
    "id": "P_GFzZjxRR5O",
    "outputId": "7d47895d-cc75-4518-8f0e-aa0fdedb7714"
   },
   "outputs": [],
   "source": [
    "import numpy as np\n",
    "import tensorflow as tf\n",
    "from tensorflow.keras.datasets import mnist\n",
    "from tensorflow.keras.models import Sequential\n",
    "from tensorflow.keras.layers import Dense, Flatten\n",
    "from tensorflow.keras.optimizers import SGD\n",
    "from sklearn.model_selection import train_test_split\n",
    "from keras import backend as K\n",
    "import random"
   ]
  },
  {
   "cell_type": "code",
   "execution_count": 54,
   "metadata": {},
   "outputs": [],
   "source": [
    "# Set seed for Python's built-in random number generator\n",
    "\n",
    "# Set seed for numpy. Put your SID instead of number '42'\n",
    "np.random.seed(1903540)\n",
    "# Set seed for Python's built-in random number generator.  Put your SID instead of number '42'\n",
    "random.seed(1903540)\n",
    "\n",
    "# Set seed for TensorFlow tf.random.set_seed(42)\n",
    "# Put your SID instead of number '42'\n",
    "tf.random.set_seed(1903540)\n",
    "\n",
    "K.clear_session() # Set seed for Keras"
   ]
  },
  {
   "cell_type": "code",
   "execution_count": 55,
   "metadata": {},
   "outputs": [],
   "source": [
    "# Load MNIST dataset\n",
    "(x_train, y_train), (x_test, y_test) = mnist.load_data()"
   ]
  },
  {
   "cell_type": "code",
   "execution_count": 56,
   "metadata": {},
   "outputs": [],
   "source": [
    "# Normalize and reshape data\n",
    "x_train = x_train.astype('float32') / 255.0\n",
    "x_test = x_test.astype('float32') / 255.0\n",
    "x_train = np.expand_dims(x_train, -1)\n",
    "x_test = np.expand_dims(x_test, -1)"
   ]
  },
  {
   "cell_type": "code",
   "execution_count": 57,
   "metadata": {},
   "outputs": [],
   "source": [
    "# Define client functions\n",
    "def create_client_model():\n",
    "    model = Sequential([\n",
    "        Flatten(input_shape=(28, 28, 1)),\n",
    "        Dense(128, activation='relu'),\n",
    "        Dense(10, activation='softmax')\n",
    "    ])\n",
    "    model.compile(optimizer='adam', loss='sparse_categorical_crossentropy', metrics=['accuracy'])\n",
    "    return model"
   ]
  },
  {
   "cell_type": "markdown",
   "metadata": {},
   "source": [
    "# Two clients"
   ]
  },
  {
   "cell_type": "code",
   "execution_count": 58,
   "metadata": {},
   "outputs": [],
   "source": [
    "# Split data into two clients\n",
    "x_train_c1, x_train_c2, y_train_c1, y_train_c2 = train_test_split(x_train, y_train, test_size=0.5, \n",
    "                                                                  #random_state=1903540,\n",
    "                                                  # SID 1903540                \n",
    "                                                                  random_state= 1903540\n",
    "                                                                 )"
   ]
  },
  {
   "cell_type": "code",
   "execution_count": 59,
   "metadata": {},
   "outputs": [
    {
     "name": "stdout",
     "output_type": "stream",
     "text": [
      "(30000, 28, 28, 1)\n",
      "(30000, 28, 28, 1)\n",
      "(30000,)\n",
      "(30000,)\n"
     ]
    }
   ],
   "source": [
    "print(x_train_c1.shape)\n",
    "print(x_train_c2.shape)\n",
    "print(y_train_c1.shape)\n",
    "print(y_train_c2.shape)"
   ]
  },
  {
   "cell_type": "code",
   "execution_count": 60,
   "metadata": {},
   "outputs": [],
   "source": [
    "# Federated averaging\n",
    "\n",
    "def federated_average_weights(weights1, weights2):\n",
    "    new_weights = []\n",
    "    for w1, w2 in zip(weights1, weights2):\n",
    "        new_weights.append((w1 + w2) / 2)\n",
    "    return new_weights"
   ]
  },
  {
   "cell_type": "code",
   "execution_count": 61,
   "metadata": {},
   "outputs": [],
   "source": [
    "# Aggregate models\n",
    "\n",
    "aggregated_weights = federated_average_weights(client1_model.get_weights(), client2_model.get_weights())"
   ]
  },
  {
   "cell_type": "code",
   "execution_count": 62,
   "metadata": {},
   "outputs": [],
   "source": [
    "# Create global model and set weights\n",
    "\n",
    "global_model = create_client_model()\n",
    "global_model.set_weights(aggregated_weights)"
   ]
  },
  {
   "cell_type": "code",
   "execution_count": 63,
   "metadata": {},
   "outputs": [
    {
     "name": "stdout",
     "output_type": "stream",
     "text": [
      "313/313 - 2s - loss: 0.4415 - accuracy: 0.8767 - 2s/epoch - 7ms/step\n",
      "Test accuracy: 0.8766999840736389\n"
     ]
    }
   ],
   "source": [
    "# Evaluate global model\n",
    "\n",
    "test_loss, test_acc = global_model.evaluate(x_test, y_test, verbose=2)\n",
    "print('Test accuracy:', test_acc)"
   ]
  },
  {
   "cell_type": "code",
   "execution_count": 64,
   "metadata": {},
   "outputs": [],
   "source": [
    "test_accuracy = []"
   ]
  },
  {
   "cell_type": "code",
   "execution_count": 65,
   "metadata": {},
   "outputs": [],
   "source": [
    "test_accuracy.append(0.8766999840736389)"
   ]
  },
  {
   "cell_type": "code",
   "execution_count": 66,
   "metadata": {},
   "outputs": [
    {
     "data": {
      "text/plain": [
       "[0.8766999840736389]"
      ]
     },
     "execution_count": 66,
     "metadata": {},
     "output_type": "execute_result"
    }
   ],
   "source": [
    "test_accuracy"
   ]
  },
  {
   "cell_type": "markdown",
   "metadata": {},
   "source": [
    "Calcuating Precision, recall and F-score"
   ]
  },
  {
   "cell_type": "code",
   "execution_count": 45,
   "metadata": {},
   "outputs": [],
   "source": [
    "from sklearn.metrics import classification_report\n",
    "from sklearn.metrics import accuracy_score, precision_score, recall_score, f1_score"
   ]
  },
  {
   "cell_type": "code",
   "execution_count": 67,
   "metadata": {},
   "outputs": [
    {
     "name": "stdout",
     "output_type": "stream",
     "text": [
      "313/313 [==============================] - 2s 5ms/step\n",
      "(10000, 10)\n"
     ]
    }
   ],
   "source": [
    "predictions = global_model.predict(x_test)\n",
    "print(predictions.shape)\n",
    "\n",
    "predictions = list(predictions.argmax(axis=1))"
   ]
  },
  {
   "cell_type": "code",
   "execution_count": 70,
   "metadata": {},
   "outputs": [
    {
     "name": "stdout",
     "output_type": "stream",
     "text": [
      "              precision    recall  f1-score   support\n",
      "\n",
      "           0       0.92      0.98      0.95       980\n",
      "           1       0.99      0.95      0.97      1135\n",
      "           2       0.73      0.94      0.82      1032\n",
      "           3       0.76      0.97      0.85      1010\n",
      "           4       0.96      0.88      0.92       982\n",
      "           5       0.76      0.94      0.84       892\n",
      "           6       1.00      0.58      0.73       958\n",
      "           7       0.91      0.90      0.91      1028\n",
      "           8       0.94      0.79      0.86       974\n",
      "           9       0.96      0.82      0.88      1009\n",
      "\n",
      "    accuracy                           0.88     10000\n",
      "   macro avg       0.89      0.87      0.87     10000\n",
      "weighted avg       0.89      0.88      0.88     10000\n",
      "\n"
     ]
    }
   ],
   "source": [
    "from sklearn.metrics import classification_report\n",
    "\n",
    "# Assuming y_test contains the true labels and predictions contains the predicted labels\n",
    "print(classification_report(y_test, predictions))"
   ]
  },
  {
   "cell_type": "code",
   "execution_count": 72,
   "metadata": {},
   "outputs": [
    {
     "name": "stdout",
     "output_type": "stream",
     "text": [
      "Accuracy test set:  0.8767\n",
      "Precision test set:  0.894674405348398\n",
      "Recall test set:  0.8767\n",
      "F-score test set:  0.8752646229789867\n"
     ]
    }
   ],
   "source": [
    "from sklearn.metrics import accuracy_score, precision_score, recall_score, f1_score\n",
    "\n",
    "# Assuming y_test contains the true labels and predictions contains the predicted labels\n",
    "print(\"Accuracy test set: \", accuracy_score(y_test, predictions))\n",
    "print(\"Precision test set: \", precision_score(y_test, predictions, average='weighted'))\n",
    "print(\"Recall test set: \", recall_score(y_test, predictions, average='weighted'))\n",
    "print(\"F-score test set: \", f1_score(y_test, predictions, average='weighted'))"
   ]
  },
  {
   "cell_type": "code",
   "execution_count": 73,
   "metadata": {},
   "outputs": [],
   "source": [
    "test_precision = []\n",
    "test_recall    = []\n",
    "test_f1_score  = []"
   ]
  },
  {
   "cell_type": "code",
   "execution_count": 74,
   "metadata": {},
   "outputs": [],
   "source": [
    "test_precision.append(0.894674405348398)\n",
    "test_recall.append(0.8767)\n",
    "test_f1_score.append(0.8752646229789867)"
   ]
  },
  {
   "cell_type": "markdown",
   "metadata": {},
   "source": [
    "Displaying the confusion matrix between actual and predicted values on test data."
   ]
  },
  {
   "cell_type": "code",
   "execution_count": 75,
   "metadata": {},
   "outputs": [],
   "source": [
    "from sklearn.metrics import confusion_matrix, ConfusionMatrixDisplay"
   ]
  },
  {
   "cell_type": "code",
   "execution_count": 76,
   "metadata": {},
   "outputs": [
    {
     "data": {
      "image/png": "[encoded data removed]",
      "text/plain": [
       "<Figure size 640x480 with 2 Axes>"
      ]
     },
     "metadata": {},
     "output_type": "display_data"
    }
   ],
   "source": [
    "# display the confusion matrix between test output and predicted output\n",
    "\n",
    "cm = confusion_matrix(y_test, predictions) \n",
    "disp = ConfusionMatrixDisplay(confusion_matrix = cm)\n",
    "disp.plot();\n",
    "#plt.show()"
   ]
  },
  {
   "cell_type": "code",
   "execution_count": null,
   "metadata": {},
   "outputs": [],
   "source": []
  },
  {
   "cell_type": "markdown",
   "metadata": {
    "id": "aeKbFr6UHMPx"
   },
   "source": [
    "# Lab Logbook requirement: Document the following in lablogbook\n",
    "\n",
    "1. Plot the model's performance for the number of clients ranging from 2, 4, 6, 8, and 10.\n",
    "\n",
    "2. For any specified number of clients, compare the model's performance when one (or more) dishonest clients are present. Plot the performance metrics before and after the presence of dishonest clients.\n",
    "\n",
    "\n"
   ]
  },
  {
   "cell_type": "markdown",
   "metadata": {},
   "source": [
    "Splitting data into 4 clients"
   ]
  },
  {
   "cell_type": "code",
   "execution_count": 77,
   "metadata": {},
   "outputs": [],
   "source": [
    "Client_1 = (x_train[0:15000], y_train[0:15000])\n",
    "Client_2 = (x_train[15000:30000], y_train[15000:30000])\n",
    "Client_3 = (x_train[30000:45000], y_train[30000:45000])\n",
    "Client_4 = (x_train[45000:], y_train[45000:])"
   ]
  },
  {
   "cell_type": "code",
   "execution_count": 78,
   "metadata": {},
   "outputs": [
    {
     "name": "stdout",
     "output_type": "stream",
     "text": [
      "(15000, 28, 28, 1)\n",
      "(15000, 28, 28, 1)\n",
      "(15000, 28, 28, 1)\n",
      "(15000, 28, 28, 1)\n",
      "(15000,)\n",
      "(15000,)\n",
      "(15000,)\n",
      "(15000,)\n"
     ]
    }
   ],
   "source": [
    "print(Client_1[0].shape)\n",
    "print(Client_2[0].shape)\n",
    "print(Client_3[0].shape)\n",
    "print(Client_4[0].shape)\n",
    "\n",
    "print(Client_1[1].shape)\n",
    "print(Client_2[1].shape)\n",
    "print(Client_3[1].shape)\n",
    "print(Client_4[1].shape)"
   ]
  },
  {
   "cell_type": "code",
   "execution_count": 79,
   "metadata": {},
   "outputs": [],
   "source": [
    "# Create and train client models\n",
    "client1_model = create_client_model()\n",
    "client2_model = create_client_model()\n",
    "client3_model = create_client_model()\n",
    "client4_model = create_client_model()\n",
    "\n",
    "client1_model = train_client_model(client1_model, Client_1[0], Client_1[1])\n",
    "client2_model = train_client_model(client2_model, Client_2[0], Client_1[1])\n",
    "client3_model = train_client_model(client3_model, Client_3[0], Client_1[1])\n",
    "client4_model = train_client_model(client4_model, Client_4[0], Client_1[1])"
   ]
  },
  {
   "cell_type": "code",
   "execution_count": null,
   "metadata": {},
   "outputs": [],
   "source": [
    "# Federated averaging\n",
    "def federated_average_weights(weights1, weights2, weights3, weights4):\n",
    "    new_weights = []\n",
    "    for w1, w2, w3, w4 in zip(weights1, weights2, weights3, weights4):\n",
    "        new_weights.append((w1 + w2 + w3 + w4) / 4)\n",
    "    return new_weights"
   ]
  },
  {
   "cell_type": "code",
   "execution_count": 82,
   "metadata": {},
   "outputs": [],
   "source": [
    "def federated_average_weights(*weights_list):\n",
    "    num_clients = len(weights_list)\n",
    "    num_layers = len(weights_list[0])  # Assuming all clients have the same number of layers\n",
    "\n",
    "    # Initialize a list to store the averaged weights\n",
    "    averaged_weights = []\n",
    "\n",
    "    # Loop through each layer\n",
    "    for layer_idx in range(num_layers):\n",
    "        # Initialize a numpy array to accumulate weights from all clients for the current layer\n",
    "        layer_accumulated_weights = np.zeros_like(weights_list[0][layer_idx])\n",
    "\n",
    "        # Loop through each client\n",
    "        for client_weights in weights_list:\n",
    "            layer_accumulated_weights += client_weights[layer_idx]\n",
    "\n",
    "        # Calculate the averaged weights for the current layer\n",
    "        averaged_layer_weights = layer_accumulated_weights / num_clients\n",
    "\n",
    "        # Append the averaged weights for the current layer to the list\n",
    "        averaged_weights.append(averaged_layer_weights)\n",
    "\n",
    "    return averaged_weights\n"
   ]
  },
  {
   "cell_type": "code",
   "execution_count": 83,
   "metadata": {},
   "outputs": [],
   "source": [
    "# Aggregating the models\n",
    "aggregated_weights = federated_average_weights(client1_model.get_weights(), \n",
    "                                               client2_model.get_weights(), \n",
    "                                               client3_model.get_weights(),\n",
    "                                               client4_model.get_weights())\n",
    "\n",
    "# Creating global model and set weights\n",
    "global_model = create_client_model()\n",
    "global_model.set_weights(aggregated_weights)"
   ]
  },
  {
   "cell_type": "code",
   "execution_count": 84,
   "metadata": {},
   "outputs": [
    {
     "name": "stdout",
     "output_type": "stream",
     "text": [
      "313/313 - 2s - loss: 2.2430 - accuracy: 0.3225 - 2s/epoch - 6ms/step\n",
      "Test accuracy: 0.32249999046325684\n"
     ]
    }
   ],
   "source": [
    "# Evaluating the global model\n",
    "test_loss, test_acc = global_model.evaluate(x_test, y_test, verbose=2)\n",
    "print('Test accuracy:', test_acc)"
   ]
  },
  {
   "cell_type": "code",
   "execution_count": 85,
   "metadata": {},
   "outputs": [
    {
     "name": "stdout",
     "output_type": "stream",
     "text": [
      "313/313 [==============================] - 2s 5ms/step\n",
      "(10000, 10)\n"
     ]
    }
   ],
   "source": [
    "predictions = global_model.predict(x_test)\n",
    "print(predictions.shape)\n",
    "\n",
    "predictions = list(predictions.argmax(axis=1))"
   ]
  },
  {
   "cell_type": "code",
   "execution_count": 86,
   "metadata": {},
   "outputs": [
    {
     "name": "stdout",
     "output_type": "stream",
     "text": [
      "Accuracy test set:  0.3225\n",
      "Precision test set:  0.34580819838764465\n",
      "Recall test set:  0.3225\n",
      "F-score test set:  0.2913805607745686\n",
      "              precision    recall  f1-score   support\n",
      "\n",
      "           0       0.41      0.09      0.15       980\n",
      "           1       0.29      0.59      0.39      1135\n",
      "           2       0.23      0.12      0.16      1032\n",
      "           3       0.17      0.17      0.17      1010\n",
      "           4       0.48      0.62      0.54       982\n",
      "           5       0.38      0.68      0.49       892\n",
      "           6       0.47      0.14      0.22       958\n",
      "           7       0.25      0.43      0.31      1028\n",
      "           8       0.43      0.12      0.19       974\n",
      "           9       0.39      0.25      0.31      1009\n",
      "\n",
      "    accuracy                           0.32     10000\n",
      "   macro avg       0.35      0.32      0.29     10000\n",
      "weighted avg       0.35      0.32      0.29     10000\n",
      "\n"
     ]
    }
   ],
   "source": [
    "print(\"Accuracy test set: \", accuracy_score(y_test, predictions))\n",
    "\n",
    "print(\"Precision test set: \", precision_score(y_test, predictions, average = 'weighted' )) \n",
    "print(\"Recall test set: \", recall_score(y_test, predictions, average = 'weighted' ))\n",
    "print(\"F-score test set: \", f1_score(y_test, predictions, average = 'weighted' ))\n",
    "\n",
    "print(classification_report(y_test, predictions))"
   ]
  },
  {
   "cell_type": "code",
   "execution_count": 87,
   "metadata": {},
   "outputs": [],
   "source": [
    "test_accuracy.append(0.32249999046325684)\n",
    "test_precision.append(0.34580819838764465)\n",
    "test_recall.append(0.3225)\n",
    "test_f1_score.append(0.2913805607745686)"
   ]
  },
  {
   "cell_type": "code",
   "execution_count": 88,
   "metadata": {},
   "outputs": [
    {
     "name": "stdout",
     "output_type": "stream",
     "text": [
      "[0.8766999840736389, 0.32249999046325684]\n",
      "[0.894674405348398, 0.34580819838764465]\n",
      "[0.8767, 0.3225]\n",
      "[0.8752646229789867, 0.2913805607745686]\n"
     ]
    }
   ],
   "source": [
    "print(test_accuracy)\n",
    "print(test_precision)\n",
    "print(test_recall)\n",
    "print(test_f1_score)"
   ]
  },
  {
   "cell_type": "markdown",
   "metadata": {},
   "source": [
    "Splitting data into 6 clients"
   ]
  },
  {
   "cell_type": "code",
   "execution_count": 89,
   "metadata": {},
   "outputs": [
    {
     "name": "stdout",
     "output_type": "stream",
     "text": [
      "(10000, 28, 28, 1)\n",
      "(10000, 28, 28, 1)\n",
      "(10000, 28, 28, 1)\n",
      "(10000, 28, 28, 1)\n",
      "(10000, 28, 28, 1)\n",
      "(10000, 28, 28, 1)\n",
      "(10000,)\n",
      "(10000,)\n",
      "(10000,)\n",
      "(10000,)\n",
      "(10000,)\n",
      "(10000,)\n"
     ]
    }
   ],
   "source": [
    "Client_1 = (x_train[0:10000], y_train[0:10000])\n",
    "Client_2 = (x_train[10000:20000], y_train[10000:20000])\n",
    "Client_3 = (x_train[20000:30000], y_train[20000:30000])\n",
    "Client_4 = (x_train[30000:40000], y_train[30000:40000])\n",
    "Client_5 = (x_train[40000:50000], y_train[40000:50000])\n",
    "Client_6 = (x_train[50000:], y_train[50000:])\n",
    "\n",
    "print(Client_1[0].shape)\n",
    "print(Client_2[0].shape)\n",
    "print(Client_3[0].shape)\n",
    "print(Client_4[0].shape)\n",
    "print(Client_5[0].shape)\n",
    "print(Client_6[0].shape)\n",
    "\n",
    "print(Client_1[1].shape)\n",
    "print(Client_2[1].shape)\n",
    "print(Client_3[1].shape)\n",
    "print(Client_4[1].shape)\n",
    "print(Client_5[1].shape)\n",
    "print(Client_6[1].shape)"
   ]
  },
  {
   "cell_type": "code",
   "execution_count": 90,
   "metadata": {},
   "outputs": [],
   "source": [
    "# Create and train client models\n",
    "client1_model = create_client_model()\n",
    "client2_model = create_client_model()\n",
    "client3_model = create_client_model()\n",
    "client4_model = create_client_model()\n",
    "client5_model = create_client_model()\n",
    "client6_model = create_client_model()\n",
    "\n",
    "client1_model = train_client_model(client1_model, Client_1[0], Client_1[1])\n",
    "client2_model = train_client_model(client2_model, Client_2[0], Client_1[1])\n",
    "client3_model = train_client_model(client3_model, Client_3[0], Client_1[1])\n",
    "client4_model = train_client_model(client4_model, Client_4[0], Client_1[1])\n",
    "client5_model = train_client_model(client5_model, Client_5[0], Client_5[1])\n",
    "client6_model = train_client_model(client6_model, Client_6[0], Client_6[1])"
   ]
  },
  {
   "cell_type": "code",
   "execution_count": 91,
   "metadata": {},
   "outputs": [],
   "source": [
    "# Federated averaging\n",
    "def federated_average_weights(weights1, weights2, weights3, weights4, weights5, weights6):\n",
    "    new_weights = []\n",
    "    for w1, w2, w3, w4, w5, w6 in zip(weights1, weights2, weights3, weights4, weights5, weights6):\n",
    "        new_weights.append((w1 + w2 + w3 + w4 + w5 + w6) / 6)\n",
    "    return new_weights\n",
    "\n",
    "\n",
    "# Aggregate models\n",
    "aggregated_weights = federated_average_weights(client1_model.get_weights(), \n",
    "                                               client2_model.get_weights(), \n",
    "                                               client3_model.get_weights(),\n",
    "                                               client4_model.get_weights(),\n",
    "                                               client5_model.get_weights(),\n",
    "                                               client6_model.get_weights())\n",
    "\n",
    "# Creating global model and set weights\n",
    "global_model = create_client_model()\n",
    "global_model.set_weights(aggregated_weights)"
   ]
  },
  {
   "cell_type": "code",
   "execution_count": 92,
   "metadata": {},
   "outputs": [
    {
     "name": "stdout",
     "output_type": "stream",
     "text": [
      "313/313 - 3s - loss: 1.9453 - accuracy: 0.7398 - 3s/epoch - 10ms/step\n",
      "Test accuracy: 0.739799976348877\n",
      "313/313 [==============================] - 2s 6ms/step\n",
      "(10000, 10)\n",
      "Accuracy test set:  0.7398\n",
      "Precision test set:  0.764780851204208\n",
      "Recall test set:  0.7398\n",
      "F-score test set:  0.7338617030156441\n",
      "              precision    recall  f1-score   support\n",
      "\n",
      "           0       0.98      0.75      0.85       980\n",
      "           1       0.65      0.99      0.78      1135\n",
      "           2       0.65      0.67      0.66      1032\n",
      "           3       0.92      0.44      0.59      1010\n",
      "           4       0.76      0.84      0.80       982\n",
      "           5       0.72      0.79      0.75       892\n",
      "           6       0.73      0.73      0.73       958\n",
      "           7       0.68      0.92      0.79      1028\n",
      "           8       0.73      0.58      0.65       974\n",
      "           9       0.84      0.65      0.73      1009\n",
      "\n",
      "    accuracy                           0.74     10000\n",
      "   macro avg       0.77      0.74      0.73     10000\n",
      "weighted avg       0.76      0.74      0.73     10000\n",
      "\n"
     ]
    }
   ],
   "source": [
    "# Evaluating the global model\n",
    "test_loss, test_acc = global_model.evaluate(x_test, y_test, verbose=2)\n",
    "print('Test accuracy:', test_acc)\n",
    "\n",
    "predictions = global_model.predict(x_test)\n",
    "print(predictions.shape)\n",
    "\n",
    "predictions = list(predictions.argmax(axis=1))\n",
    "\n",
    "print(\"Accuracy test set: \", accuracy_score(y_test, predictions))\n",
    "\n",
    "print(\"Precision test set: \", precision_score(y_test, predictions, average = 'weighted' )) \n",
    "print(\"Recall test set: \", recall_score(y_test, predictions, average = 'weighted' ))\n",
    "print(\"F-score test set: \", f1_score(y_test, predictions, average = 'weighted' ))\n",
    "\n",
    "print(classification_report(y_test, predictions))"
   ]
  },
  {
   "cell_type": "code",
   "execution_count": 97,
   "metadata": {},
   "outputs": [
    {
     "name": "stdout",
     "output_type": "stream",
     "text": [
      "[0.8766999840736389, 0.32249999046325684, 0.7271999716758728, 0.739799976348877]\n",
      "[0.894674405348398, 0.34580819838764465, 0.7834205071021751, 0.764780851204208]\n",
      "[0.8767, 0.3225, 0.7272, 0.7272]\n",
      "[0.8752646229789867, 0.2913805607745686, 0.7308748558259915, 0.7338617030156441]\n"
     ]
    }
   ],
   "source": [
    "test_accuracy.append(0.739799976348877)\n",
    "test_precision.append(0.764780851204208)\n",
    "test_recall.append(0.7272)\n",
    "test_f1_score.append(0.7338617030156441)\n",
    "\n",
    "print(test_accuracy)\n",
    "print(test_precision)\n",
    "print(test_recall)\n",
    "print(test_f1_score)"
   ]
  },
  {
   "cell_type": "markdown",
   "metadata": {},
   "source": [
    "Splitting data into 8 clients"
   ]
  },
  {
   "cell_type": "code",
   "execution_count": 98,
   "metadata": {},
   "outputs": [
    {
     "name": "stdout",
     "output_type": "stream",
     "text": [
      "(7500, 28, 28, 1)\n",
      "(7500, 28, 28, 1)\n",
      "(7500, 28, 28, 1)\n",
      "(7500, 28, 28, 1)\n",
      "(7500, 28, 28, 1)\n",
      "(7500, 28, 28, 1)\n",
      "(7500, 28, 28, 1)\n",
      "(7500, 28, 28, 1)\n",
      "(7500,)\n",
      "(7500,)\n",
      "(7500,)\n",
      "(7500,)\n",
      "(7500,)\n",
      "(7500,)\n",
      "(7500,)\n",
      "(7500,)\n"
     ]
    }
   ],
   "source": [
    "Client_1 = (x_train[0:7500], y_train[0:7500])\n",
    "Client_2 = (x_train[7500:15000], y_train[7500:15000])\n",
    "Client_3 = (x_train[15000:22500], y_train[15000:22500])\n",
    "Client_4 = (x_train[22500:30000], y_train[22500:30000])\n",
    "Client_5 = (x_train[30000:37500], y_train[30000:37500])\n",
    "Client_6 = (x_train[37500:45000], y_train[37500:45000])\n",
    "Client_7 = (x_train[45000:52500], y_train[45000:52500])\n",
    "Client_8 = (x_train[52500:], y_train[52500:])\n",
    "\n",
    "print(Client_1[0].shape)\n",
    "print(Client_2[0].shape)\n",
    "print(Client_3[0].shape)\n",
    "print(Client_4[0].shape)\n",
    "print(Client_5[0].shape)\n",
    "print(Client_6[0].shape)\n",
    "print(Client_7[0].shape)\n",
    "print(Client_8[0].shape)\n",
    "\n",
    "print(Client_1[1].shape)\n",
    "print(Client_2[1].shape)\n",
    "print(Client_3[1].shape)\n",
    "print(Client_4[1].shape)\n",
    "print(Client_5[1].shape)\n",
    "print(Client_6[1].shape)\n",
    "print(Client_7[1].shape)\n",
    "print(Client_8[1].shape)\n",
    "\n",
    "# Create and train client models\n",
    "client1_model = create_client_model()\n",
    "client2_model = create_client_model()\n",
    "client3_model = create_client_model()\n",
    "client4_model = create_client_model()\n",
    "client5_model = create_client_model()\n",
    "client6_model = create_client_model()\n",
    "client7_model = create_client_model()\n",
    "client8_model = create_client_model()\n",
    "\n",
    "client1_model = train_client_model(client1_model, Client_1[0], Client_1[1])\n",
    "client2_model = train_client_model(client2_model, Client_2[0], Client_1[1])\n",
    "client3_model = train_client_model(client3_model, Client_3[0], Client_1[1])\n",
    "client4_model = train_client_model(client4_model, Client_4[0], Client_1[1])\n",
    "client5_model = train_client_model(client5_model, Client_5[0], Client_5[1])\n",
    "client6_model = train_client_model(client6_model, Client_6[0], Client_6[1])\n",
    "client7_model = train_client_model(client7_model, Client_7[0], Client_7[1])\n",
    "client8_model = train_client_model(client8_model, Client_8[0], Client_8[1])"
   ]
  },
  {
   "cell_type": "code",
   "execution_count": 99,
   "metadata": {},
   "outputs": [],
   "source": [
    "# Federated averaging\n",
    "def federated_average_weights(weights1, weights2, weights3, weights4, \n",
    "                              weights5, weights6, weights7, weights8):\n",
    "    new_weights = []\n",
    "    for w1, w2, w3, w4, w5, w6, w7, w8 in zip(weights1, weights2, weights3, weights4, \n",
    "                                              weights5, weights6, weights7, weights8):\n",
    "        new_weights.append((w1 + w2 + w3 + w4 + w5 + w6 + w7 +w8) / 8)\n",
    "    return new_weights\n",
    "\n",
    "\n",
    "# Aggregate models\n",
    "aggregated_weights = federated_average_weights(client1_model.get_weights(), \n",
    "                                               client2_model.get_weights(), \n",
    "                                               client3_model.get_weights(),\n",
    "                                               client4_model.get_weights(),\n",
    "                                               client5_model.get_weights(),\n",
    "                                               client6_model.get_weights(),\n",
    "                                               client7_model.get_weights(),\n",
    "                                               client8_model.get_weights())\n",
    "\n",
    "# Create global model and set weights\n",
    "global_model = create_client_model()\n",
    "global_model.set_weights(aggregated_weights)"
   ]
  },
  {
   "cell_type": "code",
   "execution_count": 100,
   "metadata": {},
   "outputs": [
    {
     "name": "stdout",
     "output_type": "stream",
     "text": [
      "313/313 - 2s - loss: 1.8167 - accuracy: 0.7102 - 2s/epoch - 7ms/step\n",
      "Test accuracy: 0.7102000117301941\n",
      "313/313 [==============================] - 2s 6ms/step\n",
      "(10000, 10)\n",
      "Accuracy test set:  0.7102\n",
      "Precision test set:  0.795724636386013\n",
      "Recall test set:  0.7102\n",
      "F-score test set:  0.699664301141731\n",
      "              precision    recall  f1-score   support\n",
      "\n",
      "           0       0.98      0.31      0.48       980\n",
      "           1       0.91      0.97      0.94      1135\n",
      "           2       0.67      0.86      0.75      1032\n",
      "           3       0.88      0.78      0.83      1010\n",
      "           4       0.83      0.81      0.82       982\n",
      "           5       0.55      0.89      0.68       892\n",
      "           6       0.92      0.76      0.83       958\n",
      "           7       0.42      0.91      0.58      1028\n",
      "           8       0.95      0.51      0.66       974\n",
      "           9       0.82      0.26      0.40      1009\n",
      "\n",
      "    accuracy                           0.71     10000\n",
      "   macro avg       0.79      0.71      0.70     10000\n",
      "weighted avg       0.80      0.71      0.70     10000\n",
      "\n"
     ]
    }
   ],
   "source": [
    "# Evaluate global model\n",
    "test_loss, test_acc = global_model.evaluate(x_test, y_test, verbose=2)\n",
    "print('Test accuracy:', test_acc)\n",
    "\n",
    "predictions = global_model.predict(x_test)\n",
    "print(predictions.shape)\n",
    "\n",
    "predictions = list(predictions.argmax(axis=1))\n",
    "\n",
    "print(\"Accuracy test set: \", accuracy_score(y_test, predictions))\n",
    "\n",
    "print(\"Precision test set: \", precision_score(y_test, predictions, average = 'weighted' )) \n",
    "print(\"Recall test set: \", recall_score(y_test, predictions, average = 'weighted' ))\n",
    "print(\"F-score test set: \", f1_score(y_test, predictions, average = 'weighted' ))\n",
    "\n",
    "print(classification_report(y_test, predictions))"
   ]
  },
  {
   "cell_type": "code",
   "execution_count": 106,
   "metadata": {},
   "outputs": [
    {
     "name": "stdout",
     "output_type": "stream",
     "text": [
      "[0.8766999840736389, 0.32249999046325684, 0.7271999716758728, 0.739799976348877, 0.6028000116348267, 0.7102000117301941]\n",
      "[0.894674405348398, 0.34580819838764465, 0.7834205071021751, 0.764780851204208, 0.7986126719530607, 0.795724636386013]\n",
      "[0.8767, 0.3225, 0.7272, 0.7272, 0.6028, 0.7102]\n",
      "[0.8752646229789867, 0.2913805607745686, 0.7308748558259915, 0.7338617030156441, 0.5536289939655649, 0.699664301141731]\n"
     ]
    }
   ],
   "source": [
    "test_accuracy.append(0.7102000117301941)\n",
    "test_precision.append(0.795724636386013)\n",
    "test_recall.append(0.7102)\n",
    "test_f1_score.append(0.699664301141731)\n",
    "\n",
    "print(test_accuracy)\n",
    "print(test_precision)\n",
    "print(test_recall)\n",
    "print(test_f1_score)"
   ]
  },
  {
   "cell_type": "markdown",
   "metadata": {},
   "source": [
    "Splitting data into 10 clients"
   ]
  },
  {
   "cell_type": "code",
   "execution_count": 102,
   "metadata": {},
   "outputs": [
    {
     "name": "stdout",
     "output_type": "stream",
     "text": [
      "(6000, 28, 28, 1)\n",
      "(6000, 28, 28, 1)\n",
      "(6000, 28, 28, 1)\n",
      "(6000, 28, 28, 1)\n",
      "(6000, 28, 28, 1)\n",
      "(6000, 28, 28, 1)\n",
      "(6000, 28, 28, 1)\n",
      "(6000, 28, 28, 1)\n",
      "(6000, 28, 28, 1)\n",
      "(6000, 28, 28, 1)\n",
      "(6000,)\n",
      "(6000,)\n",
      "(6000,)\n",
      "(6000,)\n",
      "(6000,)\n",
      "(6000,)\n",
      "(6000,)\n",
      "(6000,)\n",
      "(6000,)\n",
      "(6000,)\n"
     ]
    }
   ],
   "source": [
    "Client_1 = (x_train[0:6000], y_train[0:6000])\n",
    "Client_2 = (x_train[6000:12000], y_train[6000:12000])\n",
    "Client_3 = (x_train[12000:18000], y_train[12000:18000])\n",
    "Client_4 = (x_train[18000:24000], y_train[18000:24000])\n",
    "Client_5 = (x_train[24000:30000], y_train[24000:30000])\n",
    "Client_6 = (x_train[30000:36000], y_train[30000:36000])\n",
    "Client_7 = (x_train[36000:42000], y_train[36000:42000])\n",
    "Client_8 = (x_train[42000:48000], y_train[42000:48000])\n",
    "Client_9 = (x_train[48000:54000], y_train[48000:54000])\n",
    "Client_10 = (x_train[54000:], y_train[54000:])\n",
    "\n",
    "print(Client_1[0].shape)\n",
    "print(Client_2[0].shape)\n",
    "print(Client_3[0].shape)\n",
    "print(Client_4[0].shape)\n",
    "print(Client_5[0].shape)\n",
    "print(Client_6[0].shape)\n",
    "print(Client_7[0].shape)\n",
    "print(Client_8[0].shape)\n",
    "print(Client_9[0].shape)\n",
    "print(Client_10[0].shape)\n",
    "\n",
    "print(Client_1[1].shape)\n",
    "print(Client_2[1].shape)\n",
    "print(Client_3[1].shape)\n",
    "print(Client_4[1].shape)\n",
    "print(Client_5[1].shape)\n",
    "print(Client_6[1].shape)\n",
    "print(Client_7[1].shape)\n",
    "print(Client_8[1].shape)\n",
    "print(Client_9[1].shape)\n",
    "print(Client_10[1].shape)\n",
    "\n",
    "# Create and train client models\n",
    "client1_model = create_client_model()\n",
    "client2_model = create_client_model()\n",
    "client3_model = create_client_model()\n",
    "client4_model = create_client_model()\n",
    "client5_model = create_client_model()\n",
    "client6_model = create_client_model()\n",
    "client7_model = create_client_model()\n",
    "client8_model = create_client_model()\n",
    "client9_model = create_client_model()\n",
    "client10_model = create_client_model()\n",
    "\n",
    "client1_model = train_client_model(client1_model, Client_1[0], Client_1[1])\n",
    "client2_model = train_client_model(client2_model, Client_2[0], Client_1[1])\n",
    "client3_model = train_client_model(client3_model, Client_3[0], Client_1[1])\n",
    "client4_model = train_client_model(client4_model, Client_4[0], Client_1[1])\n",
    "client5_model = train_client_model(client5_model, Client_5[0], Client_5[1])\n",
    "client6_model = train_client_model(client6_model, Client_6[0], Client_6[1])\n",
    "client7_model = train_client_model(client7_model, Client_7[0], Client_7[1])\n",
    "client8_model = train_client_model(client8_model, Client_8[0], Client_8[1])\n",
    "client9_model = train_client_model(client9_model, Client_9[0], Client_9[1])\n",
    "client10_model = train_client_model(client10_model, Client_10[0], Client_10[1])"
   ]
  },
  {
   "cell_type": "code",
   "execution_count": 104,
   "metadata": {},
   "outputs": [],
   "source": [
    "# Federated averaging\n",
    "def federated_average_weights(weights1, weights2, weights3, weights4, weights5,\n",
    "                              weights6, weights7, weights8, weights9, weights10):\n",
    "    new_weights = []\n",
    "    for w1, w2, w3, w4, w5, w6, w7, w8, w9, w10 in zip(weights1, weights2, weights3, weights4, \n",
    "                                                      weights5, weights6, weights7, weights8, \n",
    "                                                      weights9, weights10):\n",
    "        new_weights.append((w1 + w2 + w3 + w4 + w5 + w6 + w7 + w8 + w9 + w10) / 10)\n",
    "    return new_weights\n",
    "\n",
    "\n",
    "# Aggregate models\n",
    "aggregated_weights = federated_average_weights(client1_model.get_weights(), \n",
    "                                               client2_model.get_weights(), \n",
    "                                               client3_model.get_weights(),\n",
    "                                               client4_model.get_weights(),\n",
    "                                               client5_model.get_weights(),\n",
    "                                               client6_model.get_weights(),\n",
    "                                               client7_model.get_weights(),\n",
    "                                               client8_model.get_weights(),\n",
    "                                               client9_model.get_weights(),\n",
    "                                               client10_model.get_weights())\n",
    "\n",
    "# Creating global model and setting weights\n",
    "global_model = create_client_model()\n",
    "global_model.set_weights(aggregated_weights)"
   ]
  },
  {
   "cell_type": "code",
   "execution_count": 105,
   "metadata": {},
   "outputs": [
    {
     "name": "stdout",
     "output_type": "stream",
     "text": [
      "313/313 - 2s - loss: 1.8632 - accuracy: 0.5288 - 2s/epoch - 8ms/step\n",
      "Test accuracy: 0.5288000106811523\n",
      "313/313 [==============================] - 2s 6ms/step\n",
      "(10000, 10)\n",
      "Accuracy test set:  0.5288\n",
      "Precision test set:  0.7204391515563311\n",
      "Recall test set:  0.5288\n",
      "F-score test set:  0.479274646548347\n",
      "              precision    recall  f1-score   support\n",
      "\n",
      "           0       0.98      0.16      0.28       980\n",
      "           1       0.90      0.91      0.91      1135\n",
      "           2       0.44      0.94      0.60      1032\n",
      "           3       0.99      0.11      0.19      1010\n",
      "           4       0.78      0.80      0.79       982\n",
      "           5       0.22      0.96      0.36       892\n",
      "           6       0.97      0.03      0.06       958\n",
      "           7       0.92      0.87      0.89      1028\n",
      "           8       0.00      0.00      0.00       974\n",
      "           9       0.92      0.44      0.60      1009\n",
      "\n",
      "    accuracy                           0.53     10000\n",
      "   macro avg       0.71      0.52      0.47     10000\n",
      "weighted avg       0.72      0.53      0.48     10000\n",
      "\n"
     ]
    },
    {
     "name": "stderr",
     "output_type": "stream",
     "text": [
      "C:\\Users\\Benja\\anaconda3\\lib\\site-packages\\sklearn\\metrics\\_classification.py:1318: UndefinedMetricWarning: Precision is ill-defined and being set to 0.0 in labels with no predicted samples. Use `zero_division` parameter to control this behavior.\n",
      "  _warn_prf(average, modifier, msg_start, len(result))\n",
      "C:\\Users\\Benja\\anaconda3\\lib\\site-packages\\sklearn\\metrics\\_classification.py:1318: UndefinedMetricWarning: Precision and F-score are ill-defined and being set to 0.0 in labels with no predicted samples. Use `zero_division` parameter to control this behavior.\n",
      "  _warn_prf(average, modifier, msg_start, len(result))\n",
      "C:\\Users\\Benja\\anaconda3\\lib\\site-packages\\sklearn\\metrics\\_classification.py:1318: UndefinedMetricWarning: Precision and F-score are ill-defined and being set to 0.0 in labels with no predicted samples. Use `zero_division` parameter to control this behavior.\n",
      "  _warn_prf(average, modifier, msg_start, len(result))\n",
      "C:\\Users\\Benja\\anaconda3\\lib\\site-packages\\sklearn\\metrics\\_classification.py:1318: UndefinedMetricWarning: Precision and F-score are ill-defined and being set to 0.0 in labels with no predicted samples. Use `zero_division` parameter to control this behavior.\n",
      "  _warn_prf(average, modifier, msg_start, len(result))\n"
     ]
    }
   ],
   "source": [
    "# Evaluating global model\n",
    "test_loss, test_acc = global_model.evaluate(x_test, y_test, verbose=2)\n",
    "print('Test accuracy:', test_acc)\n",
    "\n",
    "predictions = global_model.predict(x_test)\n",
    "print(predictions.shape)\n",
    "\n",
    "predictions = list(predictions.argmax(axis=1))\n",
    "\n",
    "print(\"Accuracy test set: \", accuracy_score(y_test, predictions))\n",
    "\n",
    "print(\"Precision test set: \", precision_score(y_test, predictions, average = 'weighted' )) \n",
    "print(\"Recall test set: \", recall_score(y_test, predictions, average = 'weighted' ))\n",
    "print(\"F-score test set: \", f1_score(y_test, predictions, average = 'weighted' ))\n",
    "\n",
    "print(classification_report(y_test, predictions))"
   ]
  },
  {
   "cell_type": "code",
   "execution_count": 107,
   "metadata": {},
   "outputs": [
    {
     "name": "stdout",
     "output_type": "stream",
     "text": [
      "[0.8766999840736389, 0.32249999046325684, 0.7271999716758728, 0.739799976348877, 0.6028000116348267, 0.7102000117301941, 0.5288000106811523]\n",
      "[0.894674405348398, 0.34580819838764465, 0.7834205071021751, 0.764780851204208, 0.7986126719530607, 0.795724636386013, 0.7204391515563311]\n",
      "[0.8767, 0.3225, 0.7272, 0.7272, 0.6028, 0.7102, 0.5288]\n",
      "[0.8752646229789867, 0.2913805607745686, 0.7308748558259915, 0.7338617030156441, 0.5536289939655649, 0.699664301141731, 0.479274646548347]\n"
     ]
    }
   ],
   "source": [
    "test_accuracy.append(0.5288000106811523)\n",
    "test_precision.append(0.7204391515563311)\n",
    "test_recall.append(0.5288)\n",
    "test_f1_score.append(0.479274646548347)\n",
    "\n",
    "print(test_accuracy)\n",
    "print(test_precision)\n",
    "print(test_recall)\n",
    "print(test_f1_score)"
   ]
  },
  {
   "cell_type": "code",
   "execution_count": 138,
   "metadata": {},
   "outputs": [],
   "source": [
    "#Splitting data into 8 clients\n",
    "Client_1 = (x_train[0:10000], y_train[0:10000])\n",
    "Client_2 = (x_train[10000:20000], y_train[10000:20000])\n",
    "Client_3 = (x_train[20000:30000], y_train[20000:30000])\n",
    "Client_4 = (x_train[30000:40000], y_train[30000:40000])\n",
    "Client_5 = (x_train[40000:50000], y_train[40000:50000])\n",
    "Client_5 = (x_train[50000:60000], y_train[50000:60000])\n",
    "Client_6 = (x_train[60000:70000], y_train[60000:70000])\n",
    "Client_7 = (x_train[70000:80000], y_train[70000:80000])\n",
    "Client_8 = (x_train[70000:], y_train[70000:])"
   ]
  },
  {
   "cell_type": "code",
   "execution_count": 139,
   "metadata": {},
   "outputs": [
    {
     "data": {
      "text/plain": [
       "10000"
      ]
     },
     "execution_count": 139,
     "metadata": {},
     "output_type": "execute_result"
    }
   ],
   "source": [
    "Client_3[1].size"
   ]
  },
  {
   "cell_type": "code",
   "execution_count": 140,
   "metadata": {},
   "outputs": [
    {
     "data": {
      "text/plain": [
       "array([4, 4, 4, ..., 6, 7, 1], dtype=uint8)"
      ]
     },
     "execution_count": 140,
     "metadata": {},
     "output_type": "execute_result"
    }
   ],
   "source": [
    "Client_3[1]"
   ]
  },
  {
   "cell_type": "code",
   "execution_count": 141,
   "metadata": {},
   "outputs": [],
   "source": [
    "### Client_2 is assumed dishonest and changing the training data. Some labels are set as 4 \n",
    "### Change the first 2000 labels\n",
    "\n",
    "Client_3[1][:2000] = 4"
   ]
  },
  {
   "cell_type": "code",
   "execution_count": 142,
   "metadata": {},
   "outputs": [
    {
     "data": {
      "text/plain": [
       "array([3, 8, 7, ..., 1, 4, 2], dtype=uint8)"
      ]
     },
     "execution_count": 142,
     "metadata": {},
     "output_type": "execute_result"
    }
   ],
   "source": [
    "Client_2[1]"
   ]
  },
  {
   "cell_type": "code",
   "execution_count": 143,
   "metadata": {},
   "outputs": [
    {
     "name": "stdout",
     "output_type": "stream",
     "text": [
      "(10000, 28, 28, 1)\n",
      "(10000, 28, 28, 1)\n",
      "(10000, 28, 28, 1)\n",
      "(10000, 28, 28, 1)\n",
      "(10000, 28, 28, 1)\n",
      "(0, 28, 28, 1)\n",
      "(0,)\n",
      "(0,)\n",
      "(10000,)\n",
      "(10000,)\n",
      "(10000,)\n",
      "(10000,)\n",
      "(10000,)\n",
      "(0,)\n",
      "(0,)\n",
      "(0,)\n"
     ]
    }
   ],
   "source": [
    "print(Client_1[0].shape)\n",
    "print(Client_2[0].shape)\n",
    "print(Client_3[0].shape)\n",
    "print(Client_4[0].shape)\n",
    "print(Client_5[0].shape)\n",
    "print(Client_6[0].shape)\n",
    "print(Client_7[1].shape)\n",
    "print(Client_8[1].shape)\n",
    "\n",
    "print(Client_1[1].shape)\n",
    "print(Client_2[1].shape)\n",
    "print(Client_3[1].shape)\n",
    "print(Client_4[1].shape)\n",
    "print(Client_5[1].shape)\n",
    "print(Client_6[1].shape)\n",
    "print(Client_7[1].shape)\n",
    "print(Client_8[1].shape)"
   ]
  },
  {
   "cell_type": "code",
   "execution_count": null,
   "metadata": {},
   "outputs": [],
   "source": [
    "def train_client_model(model, x_train, y_train, epochs=5):\n",
    "    model.compile(optimizer='adam', loss='sparse_categorical_crossentropy', metrics=['accuracy'], run_eagerly=True)\n",
    "    model.fit(x_train, y_train, epochs=epochs, verbose=0)\n",
    "    return model"
   ]
  },
  {
   "cell_type": "code",
   "execution_count": null,
   "metadata": {},
   "outputs": [],
   "source": [
    "# Create and train client models\n",
    "client1_model = create_client_model()\n",
    "client2_model = create_client_model()\n",
    "client3_model = create_client_model()\n",
    "client4_model = create_client_model()\n",
    "client5_model = create_client_model()\n",
    "client6_model = create_client_model()\n",
    "client7_model = create_client_model()\n",
    "client8_model = create_client_model()\n",
    "\n",
    "client1_model = train_client_model(client1_model, Client_1[0], Client_1[1])\n",
    "client2_model = train_client_model(client2_model, Client_2[0], Client_1[1])\n",
    "client3_model = train_client_model(client3_model, Client_3[0], Client_1[1])\n",
    "client4_model = train_client_model(client4_model, Client_4[0], Client_1[1])\n",
    "client5_model = train_client_model(client5_model, Client_5[0], Client_5[1])\n",
    "client6_model = train_client_model(client6_model, Client_6[0], Client_6[1])\n",
    "client7_model = train_client_model(client7_model, Client_7[0], Client_7[1])\n",
    "client8_model = train_client_model(client8_model, Client_8[0], Client_8[1])"
   ]
  },
  {
   "cell_type": "code",
   "execution_count": null,
   "metadata": {},
   "outputs": [],
   "source": [
    "# Federated averaging\n",
    "def federated_average_weights(weights1, weights2, weights3, weights4, weights5, weights6):\n",
    "    new_weights = []\n",
    "    for w1, w2, w3, w4, w5, w6 in zip(weights1, weights2, weights3, weights4, weights5, weights6):\n",
    "        new_weights.append((w1 + w2 + w3 + w4 + w5 + w6 + w7 + w8) / 8)\n",
    "    return new_weights\n",
    "\n",
    "\n",
    "# Aggregate models\n",
    "aggregated_weights = federated_average_weights(client1_model.get_weights(), \n",
    "                                               client2_model.get_weights(), \n",
    "                                               client3_model.get_weights(),\n",
    "                                               client4_model.get_weights(),\n",
    "                                               client5_model.get_weights(),\n",
    "                                               client6_model.get_weights(),\n",
    "                                               client7_model.get_weights(),\n",
    "                                               client8_model.get_weights())\n",
    "\n",
    "# Creating global model and setting weights\n",
    "global_model = create_client_model()\n",
    "global_model.set_weights(aggregated_weights)"
   ]
  },
  {
   "cell_type": "code",
   "execution_count": null,
   "metadata": {},
   "outputs": [],
   "source": [
    "# Evaluating global model\n",
    "test_loss, test_acc = global_model.evaluate(x_test, y_test, verbose=2)\n",
    "print('Test accuracy:', test_acc)\n",
    "\n",
    "predictions = global_model.predict(x_test)\n",
    "print(predictions.shape)\n",
    "\n",
    "predictions = list(predictions.argmax(axis=1))\n",
    "\n",
    "print(\"Accuracy test set: \", accuracy_score(y_test, predictions))\n",
    "\n",
    "print(\"Precision test set: \", precision_score(y_test, predictions, average = 'weighted' )) \n",
    "print(\"Recall test set: \", recall_score(y_test, predictions, average = 'weighted' ))\n",
    "print(\"F-score test set: \", f1_score(y_test, predictions, average = 'weighted' ))\n",
    "\n",
    "print(classification_report(y_test, predictions))"
   ]
  },
  {
   "cell_type": "code",
   "execution_count": null,
   "metadata": {},
   "outputs": [],
   "source": [
    "test_accuracy_dishonest  = []\n",
    "test_precision_dishonest = []\n",
    "test_recall_dishonest    = []\n",
    "test_f1_score_dishonest  = []"
   ]
  },
  {
   "cell_type": "code",
   "execution_count": null,
   "metadata": {},
   "outputs": [],
   "source": [
    "test_accuracy_dishonest.append(test_accuracy[2])\n",
    "test_precision_dishonest.append(test_precision[2])\n",
    "test_recall_dishonest.append(test_recall[2])\n",
    "test_f1_score_dishonest.append(test_f1_score[2])\n",
    "\n",
    "test_accuracy_dishonest.append(0.7197999954223633)\n",
    "test_precision_dishonest.append(0.7649681801937827)\n",
    "test_recall_dishonest.append(0.7198)\n",
    "test_f1_score_dishonest.append(0.7079021148713025)\n",
    "\n",
    "print(test_accuracy_dishonest)\n",
    "print(test_precision_dishonest)\n",
    "print(test_recall_dishonest)\n",
    "print(test_f1_score_dishonest)"
   ]
  },
  {
   "cell_type": "code",
   "execution_count": null,
   "metadata": {},
   "outputs": [],
   "source": [
    "### Plot the model's performance for the 8 clients, one of them (number=3) is dishonest\n",
    "\n",
    "ErrorMetrics = []\n",
    "ErrorMetrics.append(test_accuracy_dishonest)\n",
    "ErrorMetrics.append(test_precision_dishonest)\n",
    "ErrorMetrics.append(test_recall_dishonest)\n",
    "ErrorMetrics.append(test_f1_score_dishonest)\n",
    "\n",
    "print(ErrorMetrics)\n",
    "\n",
    "ErrorMetrics_pd = pd.DataFrame(ErrorMetrics)\n",
    "ErrorMetrics_pd.columns = ['All are honest', '#3 is dishonest']\n",
    "ErrorMetrics_pd = ErrorMetrics_pd.T\n",
    "ErrorMetrics_pd.columns = ['Accuracy','Precision','Recall','F1_Score']\n",
    "ErrorMetrics_pd"
   ]
  },
  {
   "cell_type": "code",
   "execution_count": null,
   "metadata": {},
   "outputs": [],
   "source": [
    "ErrorMetrics_pd.plot.bar(width=0.9, alpha=0.9)"
   ]
  },
  {
   "cell_type": "markdown",
   "metadata": {
    "id": "PQVf56VHHNQe"
   },
   "source": [
    "# Challenges (Optional):\n",
    "\n",
    "## The above code is for one communication round. Write code for multiple communication rounds. In each communication round, clients will train the model on a new dataset. Then the server will merge all these models. Subsequently, the clients will retrain the merged model in the next communication round.\n",
    "\n"
   ]
  },
  {
   "cell_type": "code",
   "execution_count": null,
   "metadata": {},
   "outputs": [],
   "source": []
  }
 ],
 "metadata": {
  "colab": {
   "provenance": []
  },
  "kernelspec": {
   "display_name": "Python 3 (ipykernel)",
   "language": "python",
   "name": "python3"
  },
  "language_info": {
   "codemirror_mode": {
    "name": "ipython",
    "version": 3
   },
   "file_extension": ".py",
   "mimetype": "text/x-python",
   "name": "python",
   "nbconvert_exporter": "python",
   "pygments_lexer": "ipython3",
   "version": "3.9.13"
  }
 },
 "nbformat": 4,
 "nbformat_minor": 1
}
