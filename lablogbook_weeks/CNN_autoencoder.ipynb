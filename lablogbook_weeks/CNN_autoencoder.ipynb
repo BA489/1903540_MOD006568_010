{
 "cells": [
  {
   "cell_type": "code",
   "execution_count": 1,
   "metadata": {
    "id": "CzlOdaugnb_U"
   },
   "outputs": [],
   "source": [
    "import tensorflow as tf"
   ]
  },
  {
   "cell_type": "code",
   "execution_count": 2,
   "metadata": {
    "id": "o5WFh4uQnb_W"
   },
   "outputs": [],
   "source": [
    "from tensorflow import keras\n",
    "from keras.layers import Input, Dense\n",
    "from keras.models import Model\n",
    "from keras.datasets import mnist\n",
    "import numpy as np\n",
    "(x_train, _), (x_test, _) = mnist.load_data()"
   ]
  },
  {
   "cell_type": "code",
   "execution_count": 12,
   "metadata": {
    "id": "tSQUNzNWnb_X"
   },
   "outputs": [],
   "source": [
    "# Reshape the input data to match the expected input shape of the autoencoder\n",
    "x_test_reshaped = x_test.reshape(-1, 28, 28)"
   ]
  },
  {
   "cell_type": "markdown",
   "metadata": {
    "id": "opSUZNsCnb_X"
   },
   "source": [
    "![image.png](attachment:image.png)"
   ]
  },
  {
   "cell_type": "code",
   "execution_count": 13,
   "metadata": {
    "id": "b893a54bnb_Y"
   },
   "outputs": [],
   "source": [
    "from tensorflow.keras.models import Sequential, Model\n",
    "from tensorflow.keras.layers import Dense, Conv2D, MaxPool2D, Flatten, UpSampling2D, Reshape"
   ]
  },
  {
   "cell_type": "code",
   "execution_count": 15,
   "metadata": {
    "id": "invEZgj8nb_Z"
   },
   "outputs": [
    {
     "name": "stdout",
     "output_type": "stream",
     "text": [
      "Model Summary:\n",
      "Model: \"sequential_1\"\n",
      "_________________________________________________________________\n",
      " Layer (type)                Output Shape              Param #   \n",
      "=================================================================\n",
      " conv2d_1 (Conv2D)           (None, 28, 28, 16)        160       \n",
      "                                                                 \n",
      " max_pooling2d_1 (MaxPooling  (None, 14, 14, 16)       0         \n",
      " 2D)                                                             \n",
      "                                                                 \n",
      " conv2d_2 (Conv2D)           (None, 14, 14, 8)         1160      \n",
      "                                                                 \n",
      " max_pooling2d_2 (MaxPooling  (None, 7, 7, 8)          0         \n",
      " 2D)                                                             \n",
      "                                                                 \n",
      " flatten (Flatten)           (None, 392)               0         \n",
      "                                                                 \n",
      " dense (Dense)               (None, 30)                11790     \n",
      "                                                                 \n",
      "=================================================================\n",
      "Total params: 13,110\n",
      "Trainable params: 13,110\n",
      "Non-trainable params: 0\n",
      "_________________________________________________________________\n"
     ]
    }
   ],
   "source": [
    "import keras\n",
    "from keras.models import Sequential\n",
    "from keras.layers import Conv2D, MaxPool2D, Flatten, Dense\n",
    "\n",
    "# Initialize the model\n",
    "encode_model = Sequential()\n",
    "\n",
    "############\n",
    "# Encoding #\n",
    "############\n",
    "\n",
    "## FIRST SET OF LAYERS\n",
    "# CONVOLUTIONAL LAYER\n",
    "encode_model.add(Conv2D(filters=16, kernel_size=(3,3), input_shape=(28, 28, 1), activation='relu', padding='same'))\n",
    "# POOLING LAYER\n",
    "encode_model.add(MaxPool2D(pool_size=(2, 2)))\n",
    "\n",
    "## SECOND SET OF LAYERS\n",
    "# CONVOLUTIONAL LAYER\n",
    "encode_model.add(Conv2D(filters=8, kernel_size=(3,3), activation='relu', padding='same'))\n",
    "# POOLING LAYER\n",
    "encode_model.add(MaxPool2D(pool_size=(2, 2)))\n",
    "\n",
    "## THIRD SET OF LAYERS\n",
    "# FLATTEN LAYER\n",
    "encode_model.add(Flatten())\n",
    "# DENSE LAYER\n",
    "encode_model.add(Dense(30, activation='relu'))\n",
    "\n",
    "# Print the summary of the model\n",
    "print(\"Model Summary:\")\n",
    "encode_model.summary()"
   ]
  },
  {
   "cell_type": "code",
   "execution_count": 16,
   "metadata": {
    "id": "Fchfz3Ffnb_Z"
   },
   "outputs": [],
   "source": [
    "############\n",
    "# Decoding #\n",
    "############\n",
    "decode_model=Sequential()\n",
    "\n",
    "# DeConv1\n",
    "#decode_model.add(Conv2D(filters=8, kernel_size=(3,3), activation='relu', padding='same'))\n",
    "# Upsampling LAYER\n",
    "#decode_model.add(UpSampling2D((2, 2)))\n",
    "\n",
    "decode_model.add(Dense(7*7*8,activation=\"relu\"))\n",
    "decode_model.add(Reshape([7,7,8]))\n",
    "\n",
    "# DeConv2\n",
    "decode_model.add(Conv2D(filters=8, kernel_size=(3,3), activation='relu', padding='same'))\n",
    "# Upsampling LAYER\n",
    "decode_model.add(UpSampling2D((2, 2)))\n",
    "\n",
    "# Deconv3\n",
    "decode_model.add(Conv2D(filters=16, kernel_size=(3,3), activation='relu', padding='same'))\n",
    "# POOLING LAYER\n",
    "decode_model.add(UpSampling2D((2, 2)))\n",
    "\n",
    "decode_model.add(Conv2D(1, kernel_size=(3,3), activation='sigmoid', padding='same'))"
   ]
  },
  {
   "cell_type": "code",
   "execution_count": 20,
   "metadata": {
    "id": "Mw9Mcq5dnb_Z"
   },
   "outputs": [
    {
     "name": "stdout",
     "output_type": "stream",
     "text": [
      "Autoencoder Summary:\n",
      "Model: \"sequential_4\"\n",
      "_________________________________________________________________\n",
      " Layer (type)                Output Shape              Param #   \n",
      "=================================================================\n",
      " sequential_1 (Sequential)   (None, 30)                13110     \n",
      "                                                                 \n",
      " sequential_3 (Sequential)   (None, 28, 28, 1)         168105    \n",
      "                                                                 \n",
      "=================================================================\n",
      "Total params: 181,215\n",
      "Trainable params: 181,215\n",
      "Non-trainable params: 0\n",
      "_________________________________________________________________\n"
     ]
    }
   ],
   "source": [
    "from keras.models import Sequential\n",
    "from keras.layers import Conv2DTranspose\n",
    "# Define the decoder part of the autoencoder\n",
    "decode_model = Sequential([\n",
    "    Dense(7*7*8, input_shape=[30], activation='relu'),\n",
    "    Dense(7*7*8, activation='relu'),\n",
    "    Reshape([7, 7, 8]),\n",
    "    Conv2DTranspose(filters=8, kernel_size=(3,3), activation='relu', padding='same'),\n",
    "    UpSampling2D(size=(2, 2)),\n",
    "    Conv2DTranspose(filters=16, kernel_size=(3,3), activation='relu', padding='same'),\n",
    "    UpSampling2D(size=(2, 2)),\n",
    "    Conv2DTranspose(filters=1, kernel_size=(3,3), activation='sigmoid', padding='same')\n",
    "])\n",
    "\n",
    "# Construct the autoencoder model\n",
    "autoencoder = Sequential([encode_model, decode_model])\n",
    "\n",
    "# Print the summary of the autoencoder model\n",
    "print(\"Autoencoder Summary:\")\n",
    "autoencoder.summary()"
   ]
  },
  {
   "cell_type": "code",
   "execution_count": 21,
   "metadata": {
    "id": "IvdkGvSNnb_a"
   },
   "outputs": [],
   "source": [
    "from keras.models import Sequential\n",
    "from keras.layers import Conv2D, MaxPooling2D, Flatten, Dense\n",
    "\n",
    "# Define the encoder model\n",
    "encoder = Sequential([\n",
    "    Conv2D(filters=16, kernel_size=(3, 3), activation='relu', input_shape=(28, 28, 1)),\n",
    "    MaxPooling2D(pool_size=(2, 2)),\n",
    "    Conv2D(filters=8, kernel_size=(3, 3), activation='relu'),\n",
    "    MaxPooling2D(pool_size=(2, 2)),\n",
    "    Flatten(),\n",
    "    Dense(30, activation='relu')\n",
    "])\n",
    "\n",
    "# Compile the encoder model\n",
    "encoder.compile(optimizer='adam', loss='binary_crossentropy')"
   ]
  },
  {
   "cell_type": "code",
   "execution_count": 23,
   "metadata": {
    "id": "WiUMMYDfnb_a"
   },
   "outputs": [
    {
     "name": "stdout",
     "output_type": "stream",
     "text": [
      "Model: \"sequential_5\"\n",
      "_________________________________________________________________\n",
      " Layer (type)                Output Shape              Param #   \n",
      "=================================================================\n",
      " conv2d_6 (Conv2D)           (None, 26, 26, 16)        160       \n",
      "                                                                 \n",
      " max_pooling2d_3 (MaxPooling  (None, 13, 13, 16)       0         \n",
      " 2D)                                                             \n",
      "                                                                 \n",
      " conv2d_7 (Conv2D)           (None, 11, 11, 8)         1160      \n",
      "                                                                 \n",
      " max_pooling2d_4 (MaxPooling  (None, 5, 5, 8)          0         \n",
      " 2D)                                                             \n",
      "                                                                 \n",
      " flatten_1 (Flatten)         (None, 200)               0         \n",
      "                                                                 \n",
      " dense_6 (Dense)             (None, 30)                6030      \n",
      "                                                                 \n",
      "=================================================================\n",
      "Total params: 7,350\n",
      "Trainable params: 7,350\n",
      "Non-trainable params: 0\n",
      "_________________________________________________________________\n"
     ]
    }
   ],
   "source": [
    "encoder.summary()"
   ]
  },
  {
   "cell_type": "code",
   "execution_count": 24,
   "metadata": {
    "id": "FieERwXBnb_b"
   },
   "outputs": [
    {
     "name": "stdout",
     "output_type": "stream",
     "text": [
      "Model: \"sequential_6\"\n",
      "_________________________________________________________________\n",
      " Layer (type)                Output Shape              Param #   \n",
      "=================================================================\n",
      " conv2d_8 (Conv2D)           (None, 26, 26, 16)        160       \n",
      "                                                                 \n",
      " max_pooling2d_5 (MaxPooling  (None, 13, 13, 16)       0         \n",
      " 2D)                                                             \n",
      "                                                                 \n",
      " conv2d_9 (Conv2D)           (None, 11, 11, 8)         1160      \n",
      "                                                                 \n",
      " max_pooling2d_6 (MaxPooling  (None, 5, 5, 8)          0         \n",
      " 2D)                                                             \n",
      "                                                                 \n",
      " flatten_2 (Flatten)         (None, 200)               0         \n",
      "                                                                 \n",
      " dense_7 (Dense)             (None, 30)                6030      \n",
      "                                                                 \n",
      "=================================================================\n",
      "Total params: 7,350\n",
      "Trainable params: 7,350\n",
      "Non-trainable params: 0\n",
      "_________________________________________________________________\n"
     ]
    }
   ],
   "source": [
    "from keras.models import Sequential\n",
    "from keras.layers import Conv2D, MaxPooling2D, Flatten, Dense\n",
    "\n",
    "# Define the encoder model\n",
    "encode_model = Sequential([\n",
    "    Conv2D(filters=16, kernel_size=(3, 3), activation='relu', input_shape=(28, 28, 1)),\n",
    "    MaxPooling2D(pool_size=(2, 2)),\n",
    "    Conv2D(filters=8, kernel_size=(3, 3), activation='relu'),\n",
    "    MaxPooling2D(pool_size=(2, 2)),\n",
    "    Flatten(),\n",
    "    Dense(30, activation='relu')\n",
    "])\n",
    "\n",
    "# Summarize the encoder model\n",
    "encode_model.summary()"
   ]
  },
  {
   "cell_type": "code",
   "execution_count": 26,
   "metadata": {
    "id": "-uToDopqnb_b"
   },
   "outputs": [
    {
     "name": "stdout",
     "output_type": "stream",
     "text": [
      "Model: \"sequential_7\"\n",
      "_________________________________________________________________\n",
      " Layer (type)                Output Shape              Param #   \n",
      "=================================================================\n",
      " dense_8 (Dense)             (None, 30)                930       \n",
      "                                                                 \n",
      " dense_9 (Dense)             (None, 392)               12152     \n",
      "                                                                 \n",
      " reshape_3 (Reshape)         (None, 7, 7, 8)           0         \n",
      "                                                                 \n",
      " conv2d_transpose_3 (Conv2DT  (None, 7, 7, 8)          584       \n",
      " ranspose)                                                       \n",
      "                                                                 \n",
      " up_sampling2d_4 (UpSampling  (None, 14, 14, 8)        0         \n",
      " 2D)                                                             \n",
      "                                                                 \n",
      " conv2d_transpose_4 (Conv2DT  (None, 14, 14, 16)       1168      \n",
      " ranspose)                                                       \n",
      "                                                                 \n",
      " up_sampling2d_5 (UpSampling  (None, 28, 28, 16)       0         \n",
      " 2D)                                                             \n",
      "                                                                 \n",
      " conv2d_transpose_5 (Conv2DT  (None, 28, 28, 1)        145       \n",
      " ranspose)                                                       \n",
      "                                                                 \n",
      "=================================================================\n",
      "Total params: 14,979\n",
      "Trainable params: 14,979\n",
      "Non-trainable params: 0\n",
      "_________________________________________________________________\n"
     ]
    }
   ],
   "source": [
    "from keras.models import Sequential\n",
    "from keras.layers import Dense, Reshape\n",
    "\n",
    "# Define the decoder model\n",
    "decoder = Sequential([\n",
    "    Dense(30, input_shape=[30], activation='relu'),\n",
    "    Dense(7*7*8, activation='relu'),\n",
    "    Reshape([7, 7, 8]),\n",
    "    Conv2DTranspose(filters=8, kernel_size=(3,3), activation='relu', padding='same'),\n",
    "    UpSampling2D(size=(2, 2)),\n",
    "    Conv2DTranspose(filters=16, kernel_size=(3,3), activation='relu', padding='same'),\n",
    "    UpSampling2D(size=(2, 2)),\n",
    "    Conv2DTranspose(filters=1, kernel_size=(3,3), activation='sigmoid', padding='same')\n",
    "])\n",
    "\n",
    "# Summarize the decoder model\n",
    "decoder.summary()"
   ]
  },
  {
   "cell_type": "code",
   "execution_count": 27,
   "metadata": {
    "colab": {
     "base_uri": "https://localhost:8080/"
    },
    "id": "YLekt0eMnb_b",
    "outputId": "58650c48-9359-4e37-ad71-99a5f37d3072"
   },
   "outputs": [
    {
     "name": "stdout",
     "output_type": "stream",
     "text": [
      "(60000, 28, 28, 1)\n"
     ]
    }
   ],
   "source": [
    "x_train = x_train.reshape(60000, 28, 28, 1)\n",
    "x_train = x_train / 255\n",
    "print(x_train.shape)"
   ]
  },
  {
   "cell_type": "code",
   "execution_count": 8,
   "metadata": {
    "id": "PfSZaCCEnb_b"
   },
   "outputs": [
    {
     "data": {
      "text/plain": [
       "(10000, 28, 28, 1)"
      ]
     },
     "execution_count": 8,
     "metadata": {},
     "output_type": "execute_result"
    }
   ],
   "source": [
    "x_test = x_test.reshape(10000, 28, 28, 1)\n",
    "x_test = x_test/255\n",
    "x_test.shape"
   ]
  },
  {
   "cell_type": "code",
   "execution_count": 28,
   "metadata": {
    "id": "0kDxggwUnb_b"
   },
   "outputs": [
    {
     "name": "stdout",
     "output_type": "stream",
     "text": [
      "Epoch 1/10\n",
      "469/469 [==============================] - 25s 49ms/step - loss: 0.0482 - val_loss: 2.0213\n",
      "Epoch 2/10\n",
      "469/469 [==============================] - 21s 45ms/step - loss: 0.0040 - val_loss: 1.8828\n",
      "Epoch 3/10\n",
      "469/469 [==============================] - 26s 56ms/step - loss: 0.0040 - val_loss: 1.6814\n",
      "Epoch 4/10\n",
      "469/469 [==============================] - 27s 57ms/step - loss: 0.0040 - val_loss: 1.4846\n",
      "Epoch 5/10\n",
      "469/469 [==============================] - 28s 61ms/step - loss: 0.0040 - val_loss: 1.2757\n",
      "Epoch 6/10\n",
      "469/469 [==============================] - 39s 84ms/step - loss: 0.0040 - val_loss: 1.1175\n",
      "Epoch 7/10\n",
      "469/469 [==============================] - 37s 80ms/step - loss: 0.0040 - val_loss: 1.0146\n",
      "Epoch 8/10\n",
      "469/469 [==============================] - 42s 89ms/step - loss: 0.0040 - val_loss: 0.9405\n",
      "Epoch 9/10\n",
      "469/469 [==============================] - 73s 155ms/step - loss: 0.0040 - val_loss: 0.9021\n",
      "Epoch 10/10\n",
      "469/469 [==============================] - 78s 167ms/step - loss: 0.0040 - val_loss: 0.8715\n"
     ]
    },
    {
     "data": {
      "text/plain": [
       "<keras.callbacks.History at 0x143a88a9be0>"
      ]
     },
     "execution_count": 28,
     "metadata": {},
     "output_type": "execute_result"
    }
   ],
   "source": [
    "from keras.models import Model\n",
    "\n",
    "# Define the autoencoder model by combining the encoder and decoder\n",
    "autoencoder = Model(inputs=encoder.input, outputs=decoder(encoder.output))\n",
    "\n",
    "# Compile the autoencoder model\n",
    "autoencoder.compile(optimizer='adam', loss='binary_crossentropy')\n",
    "\n",
    "# Train the autoencoder model\n",
    "autoencoder.fit(x=x_train, y=x_train, epochs=10, batch_size=128, shuffle=True, verbose=1, validation_data=(x_test, x_test))"
   ]
  },
  {
   "cell_type": "code",
   "execution_count": 32,
   "metadata": {},
   "outputs": [
    {
     "name": "stdout",
     "output_type": "stream",
     "text": [
      "313/313 [==============================] - 6s 18ms/step\n"
     ]
    },
    {
     "data": {
      "image/png": "[encoded data removed]",
      "text/plain": [
       "<Figure size 2000x400 with 20 Axes>"
      ]
     },
     "metadata": {},
     "output_type": "display_data"
    }
   ],
   "source": [
    "decoded_imgs = autoencoder.predict(x_test)\n",
    "\n",
    "n = 10\n",
    "\n",
    "plt.figure(figsize=(20, 4))\n",
    "for i in range(n):  # Specify the number of iterations\n",
    "    # display original\n",
    "    ax = plt.subplot(2, n, i + 1)\n",
    "    plt.imshow(x_test[i].reshape(28, 28), cmap='viridis')  # Set cmap to 'viridis' for a different color\n",
    "    ax.get_xaxis().set_visible(False)\n",
    "    ax.get_yaxis().set_visible(False)\n",
    "\n",
    "    # display reconstruction\n",
    "    ax = plt.subplot(2, n, i+1+n)\n",
    "    plt.imshow(decoded_imgs[i].reshape(28, 28), cmap='plasma')  # Set cmap to 'plasma' for a different color\n",
    "    ax.get_xaxis().set_visible(False)\n",
    "    ax.get_yaxis().set_visible(False)\n",
    "\n",
    "plt.show()"
   ]
  },
  {
   "cell_type": "code",
   "execution_count": null,
   "metadata": {},
   "outputs": [],
   "source": []
  }
 ],
 "metadata": {
  "colab": {
   "provenance": []
  },
  "kernelspec": {
   "display_name": "Python 3 (ipykernel)",
   "language": "python",
   "name": "python3"
  },
  "language_info": {
   "codemirror_mode": {
    "name": "ipython",
    "version": 3
   },
   "file_extension": ".py",
   "mimetype": "text/x-python",
   "name": "python",
   "nbconvert_exporter": "python",
   "pygments_lexer": "ipython3",
   "version": "3.9.13"
  }
 },
 "nbformat": 4,
 "nbformat_minor": 1
}
